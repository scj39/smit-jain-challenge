{
 "metadata": {
  "language_info": {
   "codemirror_mode": {
    "name": "ipython",
    "version": 3
   },
   "file_extension": ".py",
   "mimetype": "text/x-python",
   "name": "python",
   "nbconvert_exporter": "python",
   "pygments_lexer": "ipython3",
   "version": 3
  },
  "orig_nbformat": 2
 },
 "nbformat": 4,
 "nbformat_minor": 2,
 "cells": [
  {
   "cell_type": "code",
   "execution_count": null,
   "metadata": {},
   "outputs": [],
   "source": [
    "import tensorflow as tf\n",
    "import pandas as pd\n",
    "import requests\n",
    "import numpy as np\n",
    "import json\n",
    "from io import BytesIO\n",
    "from PIL import Image"
   ]
  },
  {
   "cell_type": "code",
   "execution_count": null,
   "metadata": {},
   "outputs": [],
   "source": [
    "APP_URL = \"http://127.0.0.1:5000/inference\"\n",
    "DATA_PATH = \"./data/data.csv\""
   ]
  },
  {
   "cell_type": "code",
   "execution_count": null,
   "metadata": {},
   "outputs": [],
   "source": [
    "def get_prediction(img: np.array):\n",
    "    resp = requests.post(\n",
    "        APP_URL, \n",
    "        json={\"image\": img.tolist()},\n",
    "    )\n",
    "    return np.array(\n",
    "        resp.json()[\"prediction\"]\n",
    "    )"
   ]
  },
  {
   "cell_type": "code",
   "execution_count": null,
   "metadata": {},
   "outputs": [],
   "source": [
    "urls = pd.read_csv(\"./data/data.csv\")\n",
    "\n",
    "pairs = []\n",
    "for ix, row in urls.iterrows():\n",
    "    res = []\n",
    "    for col in [\"image_url\", \"mask_url\"]:\n",
    "        resp = requests.get(row[col])\n",
    "        img = Image.open(BytesIO(resp.content))\n",
    "        res.append(np.array(img, dtype=np.uint8))\n",
    "    pairs.append(res)"
   ]
  },
  {
   "cell_type": "code",
   "execution_count": null,
   "metadata": {},
   "outputs": [],
   "source": [
    "preds = []\n",
    "for img, _ in pairs:\n",
    "    preds.append(get_prediction(img))"
   ]
  }
 ]
}